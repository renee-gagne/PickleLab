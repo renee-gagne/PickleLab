{
 "cells": [
  {
   "cell_type": "markdown",
   "id": "6e88f9d0",
   "metadata": {},
   "source": [
    "# Diabetes Data: Pickle Lab\n",
    "\n",
    "### Goal: The goal of this lab is to fit an ML model pipeline and pickle it\n",
    "\n",
    "#### The Data: For this project, I will use the Diabetes dataset. The objective of this is to determine whether an individual has diabetes based on 8 attributes. The data is sourced from OpenML, with id# 37. \n",
    "\n",
    "##### For building the classification pipeline, the following sources were very helpful:\n",
    "##### https://www.kaggle.com/gautham11/building-a-scikit-learn-classification-pipeline\n",
    "##### https://scikit-learn.org/stable/modules/generated/sklearn.pipeline.Pipeline.html"
   ]
  },
  {
   "cell_type": "code",
   "execution_count": 21,
   "id": "c8f36851",
   "metadata": {},
   "outputs": [],
   "source": [
    "##Import Libraries\n",
    "\n",
    "import pandas as pd\n",
    "from sklearn.datasets import fetch_openml\n",
    "from sklearn.pipeline import Pipeline\n",
    "from sklearn.linear_model import LogisticRegression\n",
    "from sklearn.preprocessing import StandardScaler\n",
    "from sklearn.model_selection import train_test_split\n",
    "import pickle\n",
    "import json\n"
   ]
  },
  {
   "cell_type": "code",
   "execution_count": 22,
   "id": "fec78b17",
   "metadata": {},
   "outputs": [
    {
     "data": {
      "text/html": [
       "<div>\n",
       "<style scoped>\n",
       "    .dataframe tbody tr th:only-of-type {\n",
       "        vertical-align: middle;\n",
       "    }\n",
       "\n",
       "    .dataframe tbody tr th {\n",
       "        vertical-align: top;\n",
       "    }\n",
       "\n",
       "    .dataframe thead th {\n",
       "        text-align: right;\n",
       "    }\n",
       "</style>\n",
       "<table border=\"1\" class=\"dataframe\">\n",
       "  <thead>\n",
       "    <tr style=\"text-align: right;\">\n",
       "      <th></th>\n",
       "      <th>preg</th>\n",
       "      <th>plas</th>\n",
       "      <th>pres</th>\n",
       "      <th>skin</th>\n",
       "      <th>insu</th>\n",
       "      <th>mass</th>\n",
       "      <th>pedi</th>\n",
       "      <th>age</th>\n",
       "    </tr>\n",
       "  </thead>\n",
       "  <tbody>\n",
       "    <tr>\n",
       "      <th>0</th>\n",
       "      <td>6.0</td>\n",
       "      <td>148.0</td>\n",
       "      <td>72.0</td>\n",
       "      <td>35.0</td>\n",
       "      <td>0.0</td>\n",
       "      <td>33.6</td>\n",
       "      <td>0.627</td>\n",
       "      <td>50.0</td>\n",
       "    </tr>\n",
       "    <tr>\n",
       "      <th>1</th>\n",
       "      <td>1.0</td>\n",
       "      <td>85.0</td>\n",
       "      <td>66.0</td>\n",
       "      <td>29.0</td>\n",
       "      <td>0.0</td>\n",
       "      <td>26.6</td>\n",
       "      <td>0.351</td>\n",
       "      <td>31.0</td>\n",
       "    </tr>\n",
       "    <tr>\n",
       "      <th>2</th>\n",
       "      <td>8.0</td>\n",
       "      <td>183.0</td>\n",
       "      <td>64.0</td>\n",
       "      <td>0.0</td>\n",
       "      <td>0.0</td>\n",
       "      <td>23.3</td>\n",
       "      <td>0.672</td>\n",
       "      <td>32.0</td>\n",
       "    </tr>\n",
       "    <tr>\n",
       "      <th>3</th>\n",
       "      <td>1.0</td>\n",
       "      <td>89.0</td>\n",
       "      <td>66.0</td>\n",
       "      <td>23.0</td>\n",
       "      <td>94.0</td>\n",
       "      <td>28.1</td>\n",
       "      <td>0.167</td>\n",
       "      <td>21.0</td>\n",
       "    </tr>\n",
       "    <tr>\n",
       "      <th>4</th>\n",
       "      <td>0.0</td>\n",
       "      <td>137.0</td>\n",
       "      <td>40.0</td>\n",
       "      <td>35.0</td>\n",
       "      <td>168.0</td>\n",
       "      <td>43.1</td>\n",
       "      <td>2.288</td>\n",
       "      <td>33.0</td>\n",
       "    </tr>\n",
       "    <tr>\n",
       "      <th>...</th>\n",
       "      <td>...</td>\n",
       "      <td>...</td>\n",
       "      <td>...</td>\n",
       "      <td>...</td>\n",
       "      <td>...</td>\n",
       "      <td>...</td>\n",
       "      <td>...</td>\n",
       "      <td>...</td>\n",
       "    </tr>\n",
       "    <tr>\n",
       "      <th>763</th>\n",
       "      <td>10.0</td>\n",
       "      <td>101.0</td>\n",
       "      <td>76.0</td>\n",
       "      <td>48.0</td>\n",
       "      <td>180.0</td>\n",
       "      <td>32.9</td>\n",
       "      <td>0.171</td>\n",
       "      <td>63.0</td>\n",
       "    </tr>\n",
       "    <tr>\n",
       "      <th>764</th>\n",
       "      <td>2.0</td>\n",
       "      <td>122.0</td>\n",
       "      <td>70.0</td>\n",
       "      <td>27.0</td>\n",
       "      <td>0.0</td>\n",
       "      <td>36.8</td>\n",
       "      <td>0.340</td>\n",
       "      <td>27.0</td>\n",
       "    </tr>\n",
       "    <tr>\n",
       "      <th>765</th>\n",
       "      <td>5.0</td>\n",
       "      <td>121.0</td>\n",
       "      <td>72.0</td>\n",
       "      <td>23.0</td>\n",
       "      <td>112.0</td>\n",
       "      <td>26.2</td>\n",
       "      <td>0.245</td>\n",
       "      <td>30.0</td>\n",
       "    </tr>\n",
       "    <tr>\n",
       "      <th>766</th>\n",
       "      <td>1.0</td>\n",
       "      <td>126.0</td>\n",
       "      <td>60.0</td>\n",
       "      <td>0.0</td>\n",
       "      <td>0.0</td>\n",
       "      <td>30.1</td>\n",
       "      <td>0.349</td>\n",
       "      <td>47.0</td>\n",
       "    </tr>\n",
       "    <tr>\n",
       "      <th>767</th>\n",
       "      <td>1.0</td>\n",
       "      <td>93.0</td>\n",
       "      <td>70.0</td>\n",
       "      <td>31.0</td>\n",
       "      <td>0.0</td>\n",
       "      <td>30.4</td>\n",
       "      <td>0.315</td>\n",
       "      <td>23.0</td>\n",
       "    </tr>\n",
       "  </tbody>\n",
       "</table>\n",
       "<p>768 rows × 8 columns</p>\n",
       "</div>"
      ],
      "text/plain": [
       "     preg   plas  pres  skin   insu  mass   pedi   age\n",
       "0     6.0  148.0  72.0  35.0    0.0  33.6  0.627  50.0\n",
       "1     1.0   85.0  66.0  29.0    0.0  26.6  0.351  31.0\n",
       "2     8.0  183.0  64.0   0.0    0.0  23.3  0.672  32.0\n",
       "3     1.0   89.0  66.0  23.0   94.0  28.1  0.167  21.0\n",
       "4     0.0  137.0  40.0  35.0  168.0  43.1  2.288  33.0\n",
       "..    ...    ...   ...   ...    ...   ...    ...   ...\n",
       "763  10.0  101.0  76.0  48.0  180.0  32.9  0.171  63.0\n",
       "764   2.0  122.0  70.0  27.0    0.0  36.8  0.340  27.0\n",
       "765   5.0  121.0  72.0  23.0  112.0  26.2  0.245  30.0\n",
       "766   1.0  126.0  60.0   0.0    0.0  30.1  0.349  47.0\n",
       "767   1.0   93.0  70.0  31.0    0.0  30.4  0.315  23.0\n",
       "\n",
       "[768 rows x 8 columns]"
      ]
     },
     "execution_count": 22,
     "metadata": {},
     "output_type": "execute_result"
    }
   ],
   "source": [
    "##Import the dataset and preview the data\n",
    "\n",
    "diabetes=fetch_openml(data_id=37, as_frame=True)\n",
    "\n",
    "diabetes.data"
   ]
  },
  {
   "cell_type": "code",
   "execution_count": 23,
   "id": "a1c914e9",
   "metadata": {},
   "outputs": [
    {
     "name": "stdout",
     "output_type": "stream",
     "text": [
      "<class 'sklearn.utils.Bunch'>\n"
     ]
    }
   ],
   "source": [
    "##Note that the dataset is an sklearn Bunch data type\n",
    "\n",
    "print(type(diabetes))"
   ]
  },
  {
   "cell_type": "code",
   "execution_count": 24,
   "id": "68f14d48",
   "metadata": {},
   "outputs": [],
   "source": [
    "## Test Train Split\n",
    "\n",
    "##Note that the target varible is classifying whether a person has diabetes\n",
    "\n",
    "X_train, X_test, y_train, y_test= train_test_split(diabetes.data, diabetes.target, random_state=13)\n"
   ]
  },
  {
   "cell_type": "code",
   "execution_count": 25,
   "id": "85fc6c90",
   "metadata": {},
   "outputs": [
    {
     "data": {
      "text/plain": [
       "Pipeline(steps=[('normalize', StandardScaler()),\n",
       "                ('classify', LogisticRegression())])"
      ]
     },
     "execution_count": 25,
     "metadata": {},
     "output_type": "execute_result"
    }
   ],
   "source": [
    "## Build a Pipeline using logisitc regression\n",
    "## See refrences in intro markdown block \n",
    "\n",
    "pipe=Pipeline([('normalize', StandardScaler()), ('classify', LogisticRegression())])\n",
    "\n",
    "pipe.fit(X_train, y_train)"
   ]
  },
  {
   "cell_type": "code",
   "execution_count": 26,
   "id": "4fbcdb87",
   "metadata": {},
   "outputs": [],
   "source": [
    "## Pickle the data, save the file as model.pkl\n",
    "\n",
    "with open('model.pkl', 'wb') as f: \n",
    "    \n",
    "    pickle.dump(pipe, f, pickle.HIGHEST_PROTOCOL)"
   ]
  },
  {
   "cell_type": "code",
   "execution_count": 27,
   "id": "312a8b6e",
   "metadata": {},
   "outputs": [],
   "source": [
    "## Get some testing data to file----\n",
    "import json\n",
    "\n",
    "##Convert the bunch to a data frame\n",
    "diabetesDF = pd.DataFrame(diabetes.data, columns=diabetes.feature_names)\n",
    "\n",
    "##Use json\n",
    "#with open('testdata.json','w') as f:\n",
    "#    json.dump(diabetesDF.iloc[0].values.tolist(),f)\n",
    "    \n",
    "with open('newdata.py','w') as f:\n",
    "    json.dump(diabetesDF.iloc[0].values.tolist(),f)"
   ]
  },
  {
   "cell_type": "code",
   "execution_count": null,
   "id": "a892af62",
   "metadata": {},
   "outputs": [],
   "source": []
  }
 ],
 "metadata": {
  "kernelspec": {
   "display_name": "Python 3",
   "language": "python",
   "name": "python3"
  },
  "language_info": {
   "codemirror_mode": {
    "name": "ipython",
    "version": 3
   },
   "file_extension": ".py",
   "mimetype": "text/x-python",
   "name": "python",
   "nbconvert_exporter": "python",
   "pygments_lexer": "ipython3",
   "version": "3.9.2"
  }
 },
 "nbformat": 4,
 "nbformat_minor": 5
}
